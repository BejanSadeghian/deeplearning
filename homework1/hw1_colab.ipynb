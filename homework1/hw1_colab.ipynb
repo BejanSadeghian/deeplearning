{
 "cells": [
  {
   "cell_type": "markdown",
   "metadata": {
    "colab_type": "text",
    "id": "JbJiCHZHBJ-x"
   },
   "source": [
    "This Colab notebook helps you train your models in homework 1 on GPU.\n",
    "\n",
    "Your first step is to upload this notebook to Colab: go to [colab.research.google.com](http://colab.research.google.com), select `Upload` or File -> Upload notebook then select this file (`hw1_colab.ipynb`).\n",
    "\n",
    "Next, to connect to a runtime (virtual machine) with a GPU, go to Runtime -> Change runtime type, then select GPU as the hardware accelerator. You can see the GPU with:"
   ]
  },
  {
   "cell_type": "code",
   "execution_count": 0,
   "metadata": {
    "colab": {
     "base_uri": "https://localhost:8080/",
     "height": 306
    },
    "colab_type": "code",
    "id": "oeaKqKno5e6-",
    "outputId": "dbf821e5-002c-4105-96c8-43d8558edde4"
   },
   "outputs": [
    {
     "name": "stdout",
     "output_type": "stream",
     "text": [
      "Tue Jul 30 22:00:55 2019       \n",
      "+-----------------------------------------------------------------------------+\n",
      "| NVIDIA-SMI 418.67       Driver Version: 410.79       CUDA Version: 10.0     |\n",
      "|-------------------------------+----------------------+----------------------+\n",
      "| GPU  Name        Persistence-M| Bus-Id        Disp.A | Volatile Uncorr. ECC |\n",
      "| Fan  Temp  Perf  Pwr:Usage/Cap|         Memory-Usage | GPU-Util  Compute M. |\n",
      "|===============================+======================+======================|\n",
      "|   0  Tesla T4            Off  | 00000000:00:04.0 Off |                    0 |\n",
      "| N/A   45C    P8    16W /  70W |      0MiB / 15079MiB |      0%      Default |\n",
      "+-------------------------------+----------------------+----------------------+\n",
      "                                                                               \n",
      "+-----------------------------------------------------------------------------+\n",
      "| Processes:                                                       GPU Memory |\n",
      "|  GPU       PID   Type   Process name                             Usage      |\n",
      "|=============================================================================|\n",
      "|  No running processes found                                                 |\n",
      "+-----------------------------------------------------------------------------+\n"
     ]
    }
   ],
   "source": [
    "!nvidia-smi"
   ]
  },
  {
   "cell_type": "markdown",
   "metadata": {
    "colab_type": "text",
    "id": "ige-6M6A5gq8"
   },
   "source": [
    "Your next step is to upload your code and data to the runtime. You can do that by:\n",
    "- mounting your Google Drive,\n",
    "- uploading directly from your computer, \n",
    "- or using Shell command to download from the web.\n",
    "\n",
    "To mount your Google Drive:"
   ]
  },
  {
   "cell_type": "code",
   "execution_count": 0,
   "metadata": {
    "colab": {},
    "colab_type": "code",
    "id": "pATzLCha4DP5"
   },
   "outputs": [],
   "source": [
    "from google.colab import drive\n",
    "drive.mount('/content/drive')"
   ]
  },
  {
   "cell_type": "markdown",
   "metadata": {
    "colab_type": "text",
    "id": "C_wIf38ospHP"
   },
   "source": [
    "You will need to authenticate first then your Drive should be mounted at `/content/drive`.\n",
    "\n",
    "To upload files directly from your computer:"
   ]
  },
  {
   "cell_type": "code",
   "execution_count": 0,
   "metadata": {
    "colab": {},
    "colab_type": "code",
    "id": "i-qhqAwN5DUd"
   },
   "outputs": [],
   "source": [
    "from google.colab import files\n",
    "files.upload()"
   ]
  },
  {
   "cell_type": "markdown",
   "metadata": {
    "colab_type": "text",
    "id": "sm0P2m02MUhj"
   },
   "source": [
    "Otherwise, you can you Shell command (!wget followed by a URL) to download a file from the web. Please note that you need a direct URL (not an URL to a download page)"
   ]
  },
  {
   "cell_type": "markdown",
   "metadata": {
    "colab_type": "text",
    "id": "5H2SBAsStGxL"
   },
   "source": [
    "If you have a zip file, you can unzip with:"
   ]
  },
  {
   "cell_type": "code",
   "execution_count": 0,
   "metadata": {
    "colab": {},
    "colab_type": "code",
    "id": "y_hpOH8a6tVk"
   },
   "outputs": [],
   "source": [
    "!unzip hw1_all.zip"
   ]
  },
  {
   "cell_type": "markdown",
   "metadata": {
    "colab_type": "text",
    "id": "OYGU6XmWtWIi"
   },
   "source": [
    "Next, copy your files to a working directory (`cp`) so that you have `homework` and `data`:\n"
   ]
  },
  {
   "cell_type": "code",
   "execution_count": 0,
   "metadata": {
    "colab": {
     "base_uri": "https://localhost:8080/",
     "height": 34
    },
    "colab_type": "code",
    "id": "Vwcsps2B7Sq9",
    "outputId": "0bbc1dc3-2430-4ed5-eead-e60b9f8f8e4d"
   },
   "outputs": [
    {
     "name": "stdout",
     "output_type": "stream",
     "text": [
      "\u001b[0m\u001b[01;34mdata\u001b[0m/  \u001b[01;34mhomework\u001b[0m/\n"
     ]
    }
   ],
   "source": [
    "ls"
   ]
  },
  {
   "cell_type": "markdown",
   "metadata": {
    "colab_type": "text",
    "id": "Clmbuz2m6ClC"
   },
   "source": [
    "Now you can import your code:"
   ]
  },
  {
   "cell_type": "code",
   "execution_count": 0,
   "metadata": {
    "colab": {},
    "colab_type": "code",
    "id": "wOKQTw36xjSM"
   },
   "outputs": [],
   "source": [
    "import homework\n",
    "import homework.train"
   ]
  },
  {
   "cell_type": "markdown",
   "metadata": {
    "colab_type": "text",
    "id": "SpcHTd6M6So_"
   },
   "source": [
    "Then set the training parameters:"
   ]
  },
  {
   "cell_type": "code",
   "execution_count": 0,
   "metadata": {
    "colab": {},
    "colab_type": "code",
    "id": "No8I6hDa015O"
   },
   "outputs": [],
   "source": [
    "from collections import namedtuple\n",
    "args = namedtuple('args', 'model other_args')\n",
    "args.model = 'linear'\n",
    "args.other_args = 'something'"
   ]
  },
  {
   "cell_type": "markdown",
   "metadata": {
    "colab_type": "text",
    "id": "3nYfO_so6Vd0"
   },
   "source": [
    "And starting training on GPU:"
   ]
  },
  {
   "cell_type": "code",
   "execution_count": 0,
   "metadata": {
    "colab": {},
    "colab_type": "code",
    "id": "hfNxBU2azcze"
   },
   "outputs": [],
   "source": [
    "homework.train.train(args)"
   ]
  },
  {
   "cell_type": "markdown",
   "metadata": {
    "colab_type": "text",
    "id": "PrWMxL-Z7EL0"
   },
   "source": [
    "After finishing, you can download your saved model using:"
   ]
  },
  {
   "cell_type": "code",
   "execution_count": 0,
   "metadata": {
    "colab": {},
    "colab_type": "code",
    "id": "PkY1FwT15MIp"
   },
   "outputs": [],
   "source": [
    "from google.colab import files\n",
    "files.download('homework/linear.th')"
   ]
  },
  {
   "cell_type": "markdown",
   "metadata": {
    "colab_type": "text",
    "id": "fE2wSNun7g9g"
   },
   "source": [
    "The above trains, saves, and downloads a linear model, you can do the same for your MLP. \n",
    "\n"
   ]
  }
 ],
 "metadata": {
  "accelerator": "GPU",
  "colab": {
   "name": "dl_class_hw1.ipynb",
   "provenance": [],
   "version": "0.3.2"
  },
  "kernelspec": {
   "display_name": "Python 3",
   "language": "python",
   "name": "python3"
  },
  "language_info": {
   "codemirror_mode": {
    "name": "ipython",
    "version": 3
   },
   "file_extension": ".py",
   "mimetype": "text/x-python",
   "name": "python",
   "nbconvert_exporter": "python",
   "pygments_lexer": "ipython3",
   "version": "3.7.3"
  }
 },
 "nbformat": 4,
 "nbformat_minor": 1
}
